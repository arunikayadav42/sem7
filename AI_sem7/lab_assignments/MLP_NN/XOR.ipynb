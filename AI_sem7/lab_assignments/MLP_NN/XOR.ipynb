{
 "cells": [
  {
   "cell_type": "code",
   "execution_count": 19,
   "metadata": {},
   "outputs": [],
   "source": [
    "import numpy as np\n",
    "import matplotlib.pyplot as plt\n",
    "import pandas as pd"
   ]
  },
  {
   "cell_type": "code",
   "execution_count": 20,
   "metadata": {},
   "outputs": [
    {
     "data": {
      "text/plain": [
       "array([[0., 0.],\n",
       "       [0., 1.],\n",
       "       [1., 0.],\n",
       "       [1., 1.]])"
      ]
     },
     "execution_count": 20,
     "metadata": {},
     "output_type": "execute_result"
    }
   ],
   "source": [
    "#train dataset for XOR , truth table of XOR\n",
    "train_X = np.array([[0.0, 0.0], [0.0, 1.0], [1.0, 0.0], [1.0, 1.0]])\n",
    "train_X"
   ]
  },
  {
   "cell_type": "code",
   "execution_count": 37,
   "metadata": {},
   "outputs": [
    {
     "data": {
      "text/plain": [
       "array([[1., 0.],\n",
       "       [0., 1.],\n",
       "       [0., 1.],\n",
       "       [1., 0.]])"
      ]
     },
     "execution_count": 37,
     "metadata": {},
     "output_type": "execute_result"
    }
   ],
   "source": [
    "#Output for XOR, based on index, if index 0 is 1 : i.e output is 0, if index 1 is 1 : otput is 1\n",
    "train_Y = np.array([[1.0, 0.0], [0.0, 1.0], [0.0, 1.0], [1.0, 0.0]])\n",
    "train_Y"
   ]
  },
  {
   "cell_type": "code",
   "execution_count": 22,
   "metadata": {},
   "outputs": [
    {
     "data": {
      "text/plain": [
       "array([[1., 0.],\n",
       "       [0., 0.]])"
      ]
     },
     "execution_count": 22,
     "metadata": {},
     "output_type": "execute_result"
    }
   ],
   "source": [
    "#making the test dataset\n",
    "test_X = np.array([[1.0, 0.0], [0.0 , 0.0]])\n",
    "test_X"
   ]
  },
  {
   "cell_type": "code",
   "execution_count": 38,
   "metadata": {},
   "outputs": [
    {
     "data": {
      "text/plain": [
       "array([[0., 1.],\n",
       "       [1., 0.]])"
      ]
     },
     "execution_count": 38,
     "metadata": {},
     "output_type": "execute_result"
    }
   ],
   "source": [
    "#output for test\n",
    "test_Y = np.array([[0.0, 1.0], [1.0, 0.0]])\n",
    "test_Y"
   ]
  },
  {
   "cell_type": "code",
   "execution_count": 39,
   "metadata": {},
   "outputs": [],
   "source": [
    "#Defininf the MLP\n",
    "class Neural_Network(object):\n",
    "  def __init__(self):\n",
    "    self.layer_numberofnodes=list()\n",
    "    self.W=list()\n",
    "#     self.inputSize = int(input('No .of nodes in input layer :'))\n",
    "#     self.outputSize = int(input('No. of nodes in output layer :'))\n",
    "#     self.nhiddenlayers= int((input('No of hidden layers :')))\n",
    "    self.inputSize = 2\n",
    "    self.layer_numberofnodes.append(self.inputSize)\n",
    "    self.outputSize = 2\n",
    "    self.nhiddenlayers = 1\n",
    "\n",
    "#     for i in range(self.nhiddenlayers):\n",
    "#       print(\"No. of nodes in hidden layer {} : \".format(i+1))\n",
    "#       self.layer_numberofnodes.append(int(input()))\n",
    "    self.layer_numberofnodes.append(2)\n",
    "    self.layer_numberofnodes.append(self.outputSize)\n",
    "\n",
    "    self.layerlist=[None]*(self.nhiddenlayers + 2)\n",
    "\n",
    "    #weights\n",
    "    for i in range(len(self.layer_numberofnodes)-1):\n",
    "      self.W.append(np.random.randn(self.layer_numberofnodes[i],self.layer_numberofnodes[i+1]))\n",
    "\n",
    "  def forward(self, X):\n",
    "\n",
    "    self.layerlist[0]=X\n",
    "    self.z =  np.dot(X, self.W[0]) \n",
    "    for i in range(1,(len(self.W))):\n",
    "      #print('length layer list iteration {} = {} start'.format(i,len(self.layerlist)))\n",
    "      self.z = self.sigmoid(self.z)\n",
    "      self.layerlist[i]=self.z\n",
    "      self.z = np.dot(self.z,self.W[i])\n",
    "      #print('length layer list iteration {} = {} end'.format(i,len(self.layerlist)))\n",
    "    o=self.sigmoid(self.z)\n",
    "    self.layerlist[self.nhiddenlayers+1]=o\n",
    "    return o \n",
    "\n",
    "  def sigmoid(self, s):\n",
    "    # activation function \n",
    "    return 1/(1+np.exp(-s))\n",
    "\n",
    "  def sigmoidPrime(self, s):\n",
    "    #derivative of sigmoid\n",
    "    return s * (1 - s)\n",
    "\n",
    "  def Relu(self, s):\n",
    "    return np.maximum(0,s)\n",
    "\n",
    "  def ReluPrime(self,s):\n",
    "    if(s==0): \n",
    "      return 0\n",
    "    else:\n",
    "      return 1\n",
    "  def backward(self, X, y, o,lr):\n",
    "\n",
    "    self.z_error = y - o\n",
    "    for i in range(len(self.layerlist)-1,0,-1):\n",
    "      self.z_delta = self.z_error*self.sigmoidPrime(self.layerlist[i])\n",
    "      self.z_error = self.z_delta.dot(self.W[i-1].T ) \n",
    "      self.W[i-1] += lr*self.layerlist[i-1].T.dot(self.z_delta)\n",
    "\n",
    "  def train (self, X, y,lr):\n",
    "    o = self.forward(X)\n",
    "    self.backward(X, y, o,lr)\n"
   ]
  },
  {
   "cell_type": "code",
   "execution_count": 40,
   "metadata": {},
   "outputs": [],
   "source": [
    "#defining test_loss_values for storing test_loss values against multiple learning rates\n",
    "test_loss_values = []\n",
    "learning_rate_values = [float(i) for i in [0.5, 0.1, 0.05, 0.01, 0.001, 0.0001, 0.00001]]"
   ]
  },
  {
   "cell_type": "code",
   "execution_count": 41,
   "metadata": {},
   "outputs": [
    {
     "name": "stdout",
     "output_type": "stream",
     "text": [
      "\n",
      "Iteration  1 \n",
      "Learning rate :  0.5\n",
      "Training Loss: \n",
      "0.2987439699304221\n",
      "Training Loss: \n",
      "0.29281608012178434\n",
      "Training Loss: \n",
      "0.28752307567963353\n",
      "Training Loss: \n",
      "0.28291350287204875\n",
      "Training Loss: \n",
      "0.27898046187217607\n",
      "Test Loss: \n",
      "0.2405944086622657\n",
      "\n",
      "Iteration  2 \n",
      "Learning rate :  0.1\n",
      "Training Loss: \n",
      "0.25447675973760686\n",
      "Training Loss: \n",
      "0.2543630698260575\n",
      "Training Loss: \n",
      "0.2542518920291589\n",
      "Training Loss: \n",
      "0.2541431672853944\n",
      "Training Loss: \n",
      "0.254036837989256\n",
      "Test Loss: \n",
      "0.27898772945665484\n",
      "\n",
      "Iteration  3 \n",
      "Learning rate :  0.05\n",
      "Training Loss: \n",
      "0.2557277135128583\n",
      "Training Loss: \n",
      "0.25563420359373823\n",
      "Training Loss: \n",
      "0.2555419613222878\n",
      "Training Loss: \n",
      "0.2554509729285349\n",
      "Training Loss: \n",
      "0.25536122470133515\n",
      "Test Loss: \n",
      "0.27020917528576394\n",
      "\n",
      "Iteration  4 \n",
      "Learning rate :  0.01\n",
      "Training Loss: \n",
      "0.25130559331640834\n",
      "Training Loss: \n",
      "0.25130156370771195\n",
      "Training Loss: \n",
      "0.2512975472148235\n",
      "Training Loss: \n",
      "0.25129354379544655\n",
      "Training Loss: \n",
      "0.2512895534074172\n",
      "Test Loss: \n",
      "0.25077808555926573\n",
      "\n",
      "Iteration  5 \n",
      "Learning rate :  0.001\n",
      "Training Loss: \n",
      "0.2548553498602013\n",
      "Training Loss: \n",
      "0.2548538379956088\n",
      "Training Loss: \n",
      "0.25485232663978064\n",
      "Training Loss: \n",
      "0.2548508157925539\n",
      "Training Loss: \n",
      "0.2548493054537656\n",
      "Test Loss: \n",
      "0.25937128698852413\n",
      "\n",
      "Iteration  6 \n",
      "Learning rate :  0.0001\n",
      "Training Loss: \n",
      "0.2882839336548324\n",
      "Training Loss: \n",
      "0.28828324238303465\n",
      "Training Loss: \n",
      "0.2882825511193287\n",
      "Training Loss: \n",
      "0.28828185986371463\n",
      "Training Loss: \n",
      "0.28828116861619246\n",
      "Test Loss: \n",
      "0.28745882670222\n",
      "\n",
      "Iteration  7 \n",
      "Learning rate :  1e-05\n",
      "Training Loss: \n",
      "0.2522259912097624\n",
      "Training Loss: \n",
      "0.2522259844295557\n",
      "Training Loss: \n",
      "0.25222597764937266\n",
      "Training Loss: \n",
      "0.25222597086921345\n",
      "Training Loss: \n",
      "0.25222596408907805\n",
      "Test Loss: \n",
      "0.2488266968475826\n"
     ]
    }
   ],
   "source": [
    "#computing loss values against different learning rates\n",
    "for i in range(len(learning_rate_values)):\n",
    "    print(\"\\nIteration \", i+1, \"\\nLearning rate : \", learning_rate_values[i])\n",
    "    NN = Neural_Network()\n",
    "    epoch = 5\n",
    "    learning_rate = learning_rate_values[i]\n",
    "    for q in range(int(epoch)): # trains the NN 1,000 times\n",
    "      #print (\"Input: \\n\" + str(X))\n",
    "    #   print (\"Actual Output: \\n\" + str(y))\n",
    "      print (\"Training Loss: \\n\" + str((np.mean(np.square(train_Y - NN.forward(train_X))))))# mean sum squared loss\n",
    "      NN.train(train_X, train_Y, learning_rate)\n",
    "    test_loss_values.append((np.mean(np.square(test_Y - NN.forward(test_X)))))\n",
    "    print (\"Test Loss: \\n\" + str(test_loss_values[i]))# mean sum squared loss"
   ]
  },
  {
   "cell_type": "code",
   "execution_count": 42,
   "metadata": {},
   "outputs": [
    {
     "data": {
      "text/plain": [
       "Text(0, 0.5, 'test loss')"
      ]
     },
     "execution_count": 42,
     "metadata": {},
     "output_type": "execute_result"
    },
    {
     "data": {
      "image/png": "[encoded data removed]",
      "text/plain": [
       "<Figure size 432x288 with 1 Axes>"
      ]
     },
     "metadata": {
      "needs_background": "light"
     },
     "output_type": "display_data"
    }
   ],
   "source": [
    "#plotting loss_value v/s learning rate\n",
    "test_loss_values\n",
    "plt.plot(learning_rate_values, test_loss_values, 'ro')\n",
    "plt.xlabel(\"learning rate\")\n",
    "plt.ylabel(\"test loss\")"
   ]
  },
  {
   "cell_type": "code",
   "execution_count": 43,
   "metadata": {},
   "outputs": [
    {
     "name": "stdout",
     "output_type": "stream",
     "text": [
      "Training Loss: \n",
      "0.2646579571178097\n",
      "Training Loss: \n",
      "0.26361980494351533\n",
      "Training Loss: \n",
      "0.2626413276563744\n",
      "Training Loss: \n",
      "0.26172214716129294\n",
      "Training Loss: \n",
      "0.2608613800653824\n",
      "Test Loss: \n",
      "0.21513881727850245\n"
     ]
    }
   ],
   "source": [
    "#for the best observed learning rate, using the neural network to predict the test outputs \n",
    "NN = Neural_Network()  \n",
    "learning_rate = 0.5\n",
    "NN.train(train_X, train_Y, learning_rate)\n",
    "epoch = 5\n",
    "for q in range(int(epoch)): # trains the NN 1,000 times\n",
    "    print (\"Training Loss: \\n\" + str((np.mean(np.square(train_Y - NN.forward(train_X))))))# mean sum squared loss\n",
    "    NN.train(train_X, train_Y, learning_rate)\n",
    "\n",
    "print (\"Test Loss: \\n\" + str(np.mean(np.square(test_Y - NN.forward(test_X)))))"
   ]
  },
  {
   "cell_type": "code",
   "execution_count": 44,
   "metadata": {},
   "outputs": [],
   "source": [
    "#feed forward prediction on the test dataset\n",
    "output = NN.forward(test_X)"
   ]
  },
  {
   "cell_type": "code",
   "execution_count": 47,
   "metadata": {},
   "outputs": [
    {
     "data": {
      "text/plain": [
       "array([0, 0])"
      ]
     },
     "execution_count": 47,
     "metadata": {},
     "output_type": "execute_result"
    }
   ],
   "source": [
    "#calculating predictions for the test dataset\n",
    "y_predicted = []\n",
    "for row in output : \n",
    "    y_predicted.append(np.argmax(row))\n",
    "y_predicted = np.array(y_predicted)\n",
    "y_predicted"
   ]
  },
  {
   "cell_type": "code",
   "execution_count": 52,
   "metadata": {},
   "outputs": [
    {
     "data": {
      "text/plain": [
       "array([1, 0])"
      ]
     },
     "execution_count": 52,
     "metadata": {},
     "output_type": "execute_result"
    }
   ],
   "source": [
    "#considering actual test output for predicted dataset\n",
    "y_test_output = []\n",
    "for row in test_Y : \n",
    "    y_test_output.append(np.argmax(row))\n",
    "y_test_output = np.array(y_test_output)\n",
    "y_test_output"
   ]
  },
  {
   "cell_type": "code",
   "execution_count": 55,
   "metadata": {},
   "outputs": [
    {
     "name": "stdout",
     "output_type": "stream",
     "text": [
      "[[1. 0.]\n",
      " [1. 0.]]\n"
     ]
    }
   ],
   "source": [
    "#computing the confusion matrix for the dataset\n",
    "confusion_matrix = np.zeros([2,2])\n",
    "for i in range(2):\n",
    "    confusion_matrix[y_test_output[i]][y_predicted[i]] += 1\n",
    "        \n",
    "print(confusion_matrix)"
   ]
  },
  {
   "cell_type": "code",
   "execution_count": 56,
   "metadata": {},
   "outputs": [
    {
     "data": {
      "text/plain": [
       "array([1., 0.])"
      ]
     },
     "execution_count": 56,
     "metadata": {},
     "output_type": "execute_result"
    }
   ],
   "source": [
    "#getting true positive using confusion matrix\n",
    "TruePositive = np.diag(confusion_matrix) \n",
    "TruePositive"
   ]
  },
  {
   "cell_type": "code",
   "execution_count": 59,
   "metadata": {},
   "outputs": [
    {
     "data": {
      "text/plain": [
       "[1.0, 0.0]"
      ]
     },
     "execution_count": 59,
     "metadata": {},
     "output_type": "execute_result"
    }
   ],
   "source": [
    "#getting false positive using confusion matrix\n",
    "FalsePositive = []\n",
    "for i in range(2): \n",
    "    FalsePositive.append(sum(confusion_matrix[:,i]) - confusion_matrix[i,i])\n",
    "FalsePositive"
   ]
  },
  {
   "cell_type": "code",
   "execution_count": 61,
   "metadata": {},
   "outputs": [
    {
     "data": {
      "text/plain": [
       "[0.0, 1.0]"
      ]
     },
     "execution_count": 61,
     "metadata": {},
     "output_type": "execute_result"
    }
   ],
   "source": [
    "#getting False Negative using confusion matrix\n",
    "FalseNegative = []\n",
    "for i in range(2): \n",
    "    FalseNegative.append(sum(confusion_matrix[i, :]) - confusion_matrix[i,i])\n",
    "FalseNegative"
   ]
  },
  {
   "cell_type": "code",
   "execution_count": 62,
   "metadata": {},
   "outputs": [
    {
     "data": {
      "text/plain": [
       "[0.0, 1.0]"
      ]
     },
     "execution_count": 62,
     "metadata": {},
     "output_type": "execute_result"
    }
   ],
   "source": [
    "#getting true negative using confusion matrix\n",
    "TrueNegative = []\n",
    "for i in range(2): \n",
    "    temp = np.delete(confusion_matrix, i, 0) # delete ith row \n",
    "    temp = np.delete(temp, i, 1) # delete ith column \n",
    "    TrueNegative.append(sum(sum(temp))) \n",
    "TrueNegative\n"
   ]
  },
  {
   "cell_type": "code",
   "execution_count": 63,
   "metadata": {},
   "outputs": [
    {
     "name": "stdout",
     "output_type": "stream",
     "text": [
      "\n",
      "Class  1\n",
      "Accuracy :  0.5\n",
      "Precision :  0.5\n",
      "Recall :  1.0\n",
      "F-Score :  0.6666666666666666\n",
      "\n",
      "Class  2\n",
      "Accuracy :  0.5\n",
      "Precision :  nan\n",
      "Recall :  0.0\n",
      "F-Score :  nan\n"
     ]
    },
    {
     "name": "stderr",
     "output_type": "stream",
     "text": [
      "/usr/lib/python3.7/site-packages/ipykernel_launcher.py:4: RuntimeWarning: invalid value encountered in double_scalars\n",
      "  after removing the cwd from sys.path.\n"
     ]
    }
   ],
   "source": [
    "#computing classwise accuracy precision recall and F-Score\n",
    "for i in range(2):\n",
    "    print(\"\\nClass \", i+1)\n",
    "    print(\"Accuracy : \", (TruePositive[i] + TrueNegative[i]) / (TruePositive[i] + TrueNegative[i] + FalsePositive[i] + FalseNegative[i]))\n",
    "    precision = (TruePositive[i]) / (TruePositive[i] + FalsePositive[i])\n",
    "    print(\"Precision : \", precision)\n",
    "    recall = (TruePositive[i]) / (TruePositive[i] + FalseNegative[i])\n",
    "    print(\"Recall : \", recall)\n",
    "    print(\"F-Score : \", (2 * precision * recall) / (precision + recall))"
   ]
  }
 ],
 "metadata": {
  "kernelspec": {
   "display_name": "Python 3",
   "language": "python",
   "name": "python3"
  },
  "language_info": {
   "codemirror_mode": {
    "name": "ipython",
    "version": 3
   },
   "file_extension": ".py",
   "mimetype": "text/x-python",
   "name": "python",
   "nbconvert_exporter": "python",
   "pygments_lexer": "ipython3",
   "version": "3.7.4"
  }
 },
 "nbformat": 4,
 "nbformat_minor": 2
}
