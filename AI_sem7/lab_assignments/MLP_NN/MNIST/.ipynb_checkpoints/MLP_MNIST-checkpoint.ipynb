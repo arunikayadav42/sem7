{
 "cells": [
  {
   "cell_type": "code",
   "execution_count": 1,
   "metadata": {},
   "outputs": [],
   "source": [
    "import pandas as pd\n",
    "import numpy as np\n",
    "import matplotlib.pyplot as plt"
   ]
  },
  {
   "cell_type": "code",
   "execution_count": 2,
   "metadata": {},
   "outputs": [
    {
     "name": "stdout",
     "output_type": "stream",
     "text": [
      "/home/mayankw/AI Assignment/MNIST\r\n"
     ]
    }
   ],
   "source": [
    "!pwd"
   ]
  },
  {
   "cell_type": "code",
   "execution_count": 3,
   "metadata": {},
   "outputs": [],
   "source": [
    "#function to convert the image file dataset to flattened dataset with pixel values between 0 and 255\n",
    "#by removing the first 16 bits ( header infromation) the 8 more bits (label header information)\n",
    "#briefly explained in line-specific comments \n",
    "\n",
    "def convert(img_bin_file, lbl_bin_file,\n",
    "           img_txt_file, lbl_txt_file, n_images):\n",
    "\n",
    "   img_bf = open(img_bin_file, \"rb\")    # binary image pixels\n",
    "   lbl_bf = open(lbl_bin_file, \"rb\")    # binary labels\n",
    "\n",
    "   img_tf = open(img_txt_file, \"w\")     # text image pixels\n",
    "   lbl_tf = open(lbl_txt_file, \"w\")     # text labels\n",
    "\n",
    "   img_bf.read(16)   # discard image header info\n",
    "   lbl_bf.read(8)    # discard label header info\n",
    "\n",
    "   for i in range(n_images):   # number images requested\n",
    "\n",
    "       # do labels first for no particular reason\n",
    "       lbl = ord(lbl_bf.read(1))  # get label like '3' (one byte)\n",
    "       encoded = [0] * 10         # make one-hot vector\n",
    "       encoded[lbl] = 1\n",
    "       for i in range(10):\n",
    "           lbl_tf.write(str(encoded[i]))\n",
    "           if i != 9:\n",
    "               lbl_tf.write(\" \")  # like 0 0 0 1 0 0 0 0 0 0\n",
    "       lbl_tf.write(\"\\n\")\n",
    "\n",
    "       # now do the image pixels\n",
    "       for j in range(784):  # get 784 vals for each image file\n",
    "           val = ord(img_bf.read(1))\n",
    "           img_tf.write(str(val))\n",
    "           if j != 783:\n",
    "               img_tf.write(\" \")  # avoid trailing space\n",
    "       img_tf.write(\"\\n\")  # next image\n",
    "\n",
    "   img_bf.close()\n",
    "   lbl_bf.close()  # close the binary files\n",
    "   img_tf.close()\n",
    "   lbl_tf.close()   # close the text files\n"
   ]
  },
  {
   "cell_type": "code",
   "execution_count": 4,
   "metadata": {},
   "outputs": [],
   "source": [
    "#converting the train images and corresponding train labels to 784 (28 * 28) to flattened vector dataset\n",
    "convert(\"train-images.idx3-ubyte\",\n",
    "       \"train-labels.idx1-ubyte\",\n",
    "       \"mnist_train_images.txt\",\n",
    "       \"mnist_train_labels.txt\",60000)  # first n images\n",
    "\n",
    "#converting the test images and corresponding test labels to 784 (28 * 28) to flattened vector dataset\n",
    "convert(\"t10k-images.idx3-ubyte\",\n",
    "       \"t10k-labels.idx1-ubyte\",\n",
    "       \"mnist_test_images.txt\",\n",
    "       \"mnist_test_labels.txt\",10000)  # first n images"
   ]
  },
  {
   "cell_type": "code",
   "execution_count": 4,
   "metadata": {},
   "outputs": [
    {
     "data": {
      "text/plain": [
       "array([[0., 0., 0., ..., 0., 0., 0.],\n",
       "       [0., 0., 0., ..., 0., 0., 0.],\n",
       "       [0., 0., 0., ..., 0., 0., 0.],\n",
       "       ...,\n",
       "       [0., 0., 0., ..., 0., 0., 0.],\n",
       "       [0., 0., 0., ..., 0., 0., 0.],\n",
       "       [0., 0., 0., ..., 0., 0., 0.]])"
      ]
     },
     "execution_count": 4,
     "metadata": {},
     "output_type": "execute_result"
    }
   ],
   "source": [
    "#reading the train dataset and storing as numpy array, then normalizing it\n",
    "x_train = pd.read_csv(\"mnist_train_images.txt\", sep=' ', lineterminator ='\\n', header = None).to_numpy()\n",
    "x_train=(x_train-x_train.min())/(x_train.max() - x_train.min())\n",
    "x_train"
   ]
  },
  {
   "cell_type": "code",
   "execution_count": 6,
   "metadata": {},
   "outputs": [
    {
     "data": {
      "text/plain": [
       "array([[0, 0, 0, ..., 0, 0, 0],\n",
       "       [1, 0, 0, ..., 0, 0, 0],\n",
       "       [0, 0, 0, ..., 0, 0, 0],\n",
       "       ...,\n",
       "       [0, 0, 0, ..., 0, 0, 0],\n",
       "       [0, 0, 0, ..., 0, 0, 0],\n",
       "       [0, 0, 0, ..., 0, 1, 0]])"
      ]
     },
     "execution_count": 6,
     "metadata": {},
     "output_type": "execute_result"
    }
   ],
   "source": [
    "#storing the outputs ( actual ) for the training dataset in another numpy array\n",
    "y_train = pd.read_csv(\"mnist_train_labels.txt\", sep=' ', lineterminator ='\\n', header = None).to_numpy()\n",
    "y_train"
   ]
  },
  {
   "cell_type": "code",
   "execution_count": 7,
   "metadata": {},
   "outputs": [
    {
     "data": {
      "text/plain": [
       "array([[0., 0., 0., ..., 0., 0., 0.],\n",
       "       [0., 0., 0., ..., 0., 0., 0.],\n",
       "       [0., 0., 0., ..., 0., 0., 0.],\n",
       "       ...,\n",
       "       [0., 0., 0., ..., 0., 0., 0.],\n",
       "       [0., 0., 0., ..., 0., 0., 0.],\n",
       "       [0., 0., 0., ..., 0., 0., 0.]])"
      ]
     },
     "execution_count": 7,
     "metadata": {},
     "output_type": "execute_result"
    }
   ],
   "source": [
    "#reading the test dataset and storing as numpy array, then normalizing it\n",
    "x_test = pd.read_csv(\"mnist_test_images.txt\", sep=' ', lineterminator ='\\n', header = None).to_numpy()\n",
    "x_test = (x_test - x_test.min())/(x_test.max() - x_test.min())\n",
    "x_test"
   ]
  },
  {
   "cell_type": "code",
   "execution_count": 8,
   "metadata": {},
   "outputs": [
    {
     "data": {
      "text/plain": [
       "array([[0, 0, 0, ..., 1, 0, 0],\n",
       "       [0, 0, 1, ..., 0, 0, 0],\n",
       "       [0, 1, 0, ..., 0, 0, 0],\n",
       "       ...,\n",
       "       [0, 0, 0, ..., 0, 0, 0],\n",
       "       [0, 0, 0, ..., 0, 0, 0],\n",
       "       [0, 0, 0, ..., 0, 0, 0]])"
      ]
     },
     "execution_count": 8,
     "metadata": {},
     "output_type": "execute_result"
    }
   ],
   "source": [
    "#storing the outputs ( actual ) for the training dataset in another numpy array\n",
    "y_test = pd.read_csv(\"mnist_test_labels.txt\", sep=' ', lineterminator ='\\n', header = None).to_numpy()\n",
    "y_test"
   ]
  },
  {
   "cell_type": "code",
   "execution_count": 9,
   "metadata": {},
   "outputs": [],
   "source": [
    "#defining the neural network ( MLP) with 784 input nodes, 2 hidden layers with 200, 50 nodes, output layer with 10 nodes\n",
    "class Neural_Network(object):\n",
    "  def __init__(self):\n",
    "    self.layer_numberofnodes=list()\n",
    "    self.W=list()\n",
    "#     self.inputSize = int(input('No .of nodes in input layer :'))\n",
    "#     self.outputSize = int(input('No. of nodes in output layer :'))\n",
    "#     self.nhiddenlayers= int((input('No of hidden layers :')))\n",
    "    self.inputSize = 784  #input layer nodes\n",
    "    self.layer_numberofnodes.append(self.inputSize)\n",
    "    self.outputSize = 10 #output layer nodes\n",
    "    self.nhiddenlayers = 2 #number of hidden layers\n",
    "\n",
    "#     for i in range(self.nhiddenlayers):\n",
    "#       print(\"No. of nodes in hidden layer {} : \".format(i+1))\n",
    "#       self.layer_numberofnodes.append(int(input()))\n",
    "    self.layer_numberofnodes.append(200) #nodes in first hidden layer\n",
    "    self.layer_numberofnodes.append(50)  #nodes in second hidden layer\n",
    "    self.layer_numberofnodes.append(self.outputSize)\n",
    "\n",
    "    self.layerlist=[None]*(self.nhiddenlayers + 2)\n",
    "\n",
    "    #weights\n",
    "    for i in range(len(self.layer_numberofnodes)-1):\n",
    "      self.W.append(np.random.randn(self.layer_numberofnodes[i],self.layer_numberofnodes[i+1]))\n",
    "\n",
    "  def forward(self, X):\n",
    "\n",
    "    self.layerlist[0]=X\n",
    "    self.z =  np.dot(X, self.W[0]) \n",
    "    for i in range(1,(len(self.W))):\n",
    "      #print('length layer list iteration {} = {} start'.format(i,len(self.layerlist)))\n",
    "      self.z = self.sigmoid(self.z)\n",
    "      self.layerlist[i]=self.z\n",
    "      self.z = np.dot(self.z,self.W[i])\n",
    "      #print('length layer list iteration {} = {} end'.format(i,len(self.layerlist)))\n",
    "    o=self.sigmoid(self.z)\n",
    "    self.layerlist[self.nhiddenlayers+1]=o\n",
    "    return o \n",
    "\n",
    "  def sigmoid(self, s):\n",
    "    # activation function \n",
    "    return 1/(1+np.exp(-s))\n",
    "\n",
    "  def sigmoidPrime(self, s):\n",
    "    #derivative of sigmoid\n",
    "    return s * (1 - s)\n",
    "\n",
    "  def Relu(self, s):\n",
    "    return np.maximum(0,s)\n",
    "\n",
    "  def ReluPrime(self,s):\n",
    "    if(s==0): \n",
    "      return 0\n",
    "    else:\n",
    "      return 1\n",
    "  def backward(self, X, y, o,lr):\n",
    "\n",
    "    self.z_error = y - o\n",
    "    for i in range(len(self.layerlist)-1,0,-1):\n",
    "      self.z_delta = self.z_error*self.sigmoidPrime(self.layerlist[i])\n",
    "      self.z_error = self.z_delta.dot(self.W[i-1].T ) \n",
    "      self.W[i-1] += lr*self.layerlist[i-1].T.dot(self.z_delta)\n",
    "\n",
    "  def train (self, X, y,lr):\n",
    "    o = self.forward(X)\n",
    "    self.backward(X, y, o,lr)\n"
   ]
  },
  {
   "cell_type": "code",
   "execution_count": 10,
   "metadata": {},
   "outputs": [],
   "source": [
    "#defining test_loss_values for storing test_loss values against multiple learning rates\n",
    "test_loss_values = []\n",
    "learning_rate_values = [float(i) for i in [0.5, 0.1, 0.05, 0.01, 0.001, 0.0001, 0.00001]]"
   ]
  },
  {
   "cell_type": "code",
   "execution_count": 11,
   "metadata": {},
   "outputs": [
    {
     "name": "stdout",
     "output_type": "stream",
     "text": [
      "\n",
      "Iteration  1 \n",
      "Learning rate :  0.5\n",
      "Training Loss: \n",
      "0.4784519615810314\n"
     ]
    },
    {
     "name": "stderr",
     "output_type": "stream",
     "text": [
      "/usr/lib/python3.7/site-packages/ipykernel_launcher.py:42: RuntimeWarning: overflow encountered in exp\n"
     ]
    },
    {
     "name": "stdout",
     "output_type": "stream",
     "text": [
      "Training Loss: \n",
      "0.1\n",
      "Training Loss: \n",
      "0.1\n",
      "Training Loss: \n",
      "0.1\n",
      "Training Loss: \n",
      "0.1\n",
      "Test Loss: \n",
      "0.1\n",
      "\n",
      "Iteration  2 \n",
      "Learning rate :  0.1\n",
      "Training Loss: \n",
      "0.2966800426796847\n",
      "Training Loss: \n",
      "0.1\n",
      "Training Loss: \n",
      "0.1\n",
      "Training Loss: \n",
      "0.1\n",
      "Training Loss: \n",
      "0.1\n",
      "Test Loss: \n",
      "0.1\n",
      "\n",
      "Iteration  3 \n",
      "Learning rate :  0.05\n",
      "Training Loss: \n",
      "0.3647347648951204\n",
      "Training Loss: \n",
      "0.22625218017456733\n",
      "Training Loss: \n",
      "0.09999735683482554\n",
      "Training Loss: \n",
      "0.09999368721914707\n",
      "Training Loss: \n",
      "0.09995010929596185\n",
      "Test Loss: \n",
      "0.17943340182351938\n",
      "\n",
      "Iteration  4 \n",
      "Learning rate :  0.01\n",
      "Training Loss: \n",
      "0.3331775537036041\n",
      "Training Loss: \n",
      "0.09913945433399383\n",
      "Training Loss: \n",
      "0.3273008337186817\n",
      "Training Loss: \n",
      "0.2598366206636451\n",
      "Training Loss: \n",
      "0.2598366205238306\n",
      "Test Loss: \n",
      "0.2606399536552121\n",
      "\n",
      "Iteration  5 \n",
      "Learning rate :  0.001\n",
      "Training Loss: \n",
      "0.47790800428435914\n",
      "Training Loss: \n",
      "0.1782108981529598\n",
      "Training Loss: \n",
      "0.09964090453852895\n",
      "Training Loss: \n",
      "0.09935231795572565\n",
      "Training Loss: \n",
      "0.09872429389016156\n",
      "Test Loss: \n",
      "0.09823160529861265\n",
      "\n",
      "Iteration  6 \n",
      "Learning rate :  0.0001\n",
      "Training Loss: \n",
      "0.41309311431565365\n",
      "Training Loss: \n",
      "0.16590346381970084\n",
      "Training Loss: \n",
      "0.10002146883932793\n",
      "Training Loss: \n",
      "0.09971797407993953\n",
      "Training Loss: \n",
      "0.09957949227745816\n",
      "Test Loss: \n",
      "0.09950918726325939\n",
      "\n",
      "Iteration  7 \n",
      "Learning rate :  1e-05\n",
      "Training Loss: \n",
      "0.23317793652214003\n",
      "Training Loss: \n",
      "0.20094728915803103\n",
      "Training Loss: \n",
      "0.1715029001208318\n",
      "Training Loss: \n",
      "0.14661908808769264\n",
      "Training Loss: \n",
      "0.1295451641350952\n",
      "Test Loss: \n",
      "0.12026535292987432\n"
     ]
    }
   ],
   "source": [
    "#computing loss values against different learning rates\n",
    "for i in range(len(learning_rate_values)):\n",
    "    print(\"\\nIteration \", i+1, \"\\nLearning rate : \", learning_rate_values[i])\n",
    "    NN = Neural_Network()\n",
    "    epoch = 5\n",
    "    learning_rate = learning_rate_values[i]\n",
    "    for q in range(int(epoch)): # trains the NN 1,000 times\n",
    "      #print (\"Input: \\n\" + str(X))\n",
    "    #   print (\"Actual Output: \\n\" + str(y))\n",
    "      print (\"Training Loss: \\n\" + str((np.mean(np.square(y_train - NN.forward(x_train))))))# mean sum squared loss\n",
    "      NN.train(x_train, y_train, learning_rate)\n",
    "    test_loss_values.append((np.mean(np.square(y_test - NN.forward(x_test)))))\n",
    "    print (\"Test Loss: \\n\" + str(test_loss_values[i]))# mean sum squared loss"
   ]
  },
  {
   "cell_type": "code",
   "execution_count": 12,
   "metadata": {},
   "outputs": [
    {
     "name": "stdout",
     "output_type": "stream",
     "text": [
      "(7,)\n",
      "(7,)\n"
     ]
    }
   ],
   "source": [
    "print(np.array(test_loss_values).shape)\n",
    "print(np.array(learning_rate_values).shape)"
   ]
  },
  {
   "cell_type": "code",
   "execution_count": 13,
   "metadata": {},
   "outputs": [
    {
     "data": {
      "text/plain": [
       "Text(0, 0.5, 'test loss')"
      ]
     },
     "execution_count": 13,
     "metadata": {},
     "output_type": "execute_result"
    },
    {
     "data": {
      "image/png": "[encoded data removed]",
      "text/plain": [
       "<Figure size 432x288 with 1 Axes>"
      ]
     },
     "metadata": {
      "needs_background": "light"
     },
     "output_type": "display_data"
    }
   ],
   "source": [
    "#plotting loss_value v/s learning rate\n",
    "test_loss_values\n",
    "plt.plot(learning_rate_values, test_loss_values, 'ro')\n",
    "plt.xlabel(\"learning rate\")\n",
    "plt.ylabel(\"test loss\")"
   ]
  },
  {
   "cell_type": "code",
   "execution_count": 57,
   "metadata": {},
   "outputs": [
    {
     "name": "stdout",
     "output_type": "stream",
     "text": [
      "Training Loss: \n",
      "0.23382779608457993\n",
      "Training Loss: \n",
      "0.15041088983755982\n",
      "Training Loss: \n",
      "0.10012070002287236\n",
      "Test Loss: \n",
      "0.0997556770316053\n"
     ]
    }
   ],
   "source": [
    "#for the best observed learning rate, using the neural network to predict the test outputs \n",
    "NN = Neural_Network()  \n",
    "learning_rate = 0.0001\n",
    "NN.train(x_train, y_train, learning_rate)\n",
    "epoch = 3\n",
    "for q in range(int(epoch)): # trains the NN 1,000 times\n",
    "    print (\"Training Loss: \\n\" + str((np.mean(np.square(y_train - NN.forward(x_train))))))# mean sum squared loss\n",
    "    NN.train(x_train, y_train, learning_rate)\n",
    "\n",
    "print (\"Test Loss: \\n\" + str(np.mean(np.square(y_test - NN.forward(x_test)))))"
   ]
  },
  {
   "cell_type": "code",
   "execution_count": 58,
   "metadata": {},
   "outputs": [],
   "source": [
    "#feed forward prediction on the test dataset\n",
    "output = NN.forward(x_test)"
   ]
  },
  {
   "cell_type": "code",
   "execution_count": 59,
   "metadata": {},
   "outputs": [],
   "source": [
    "y_predicted = []\n",
    "for row in output : \n",
    "    y_predicted.append(np.argmax(row) + 1)"
   ]
  },
  {
   "cell_type": "code",
   "execution_count": 60,
   "metadata": {},
   "outputs": [
    {
     "data": {
      "text/plain": [
       "array([2, 2, 4, ..., 2, 6, 8])"
      ]
     },
     "execution_count": 60,
     "metadata": {},
     "output_type": "execute_result"
    }
   ],
   "source": [
    "#calculating predictions for the test dataset\n",
    "y_predicted = np.array(y_predicted)\n",
    "y_predicted"
   ]
  },
  {
   "cell_type": "code",
   "execution_count": 61,
   "metadata": {},
   "outputs": [
    {
     "data": {
      "text/plain": [
       "array([8, 3, 2, ..., 5, 6, 7])"
      ]
     },
     "execution_count": 61,
     "metadata": {},
     "output_type": "execute_result"
    }
   ],
   "source": [
    "#considering actual test output for predicted dataset\n",
    "y_test_output = []\n",
    "for row in y_test : \n",
    "    y_test_output.append(np.argmax(row) + 1)\n",
    "y_test_output = np.array(y_test_output)\n",
    "y_test_output"
   ]
  },
  {
   "cell_type": "code",
   "execution_count": 62,
   "metadata": {},
   "outputs": [
    {
     "name": "stdout",
     "output_type": "stream",
     "text": [
      "(10000,)\n",
      "(10000,)\n"
     ]
    }
   ],
   "source": [
    "print(y_test_output.shape)\n",
    "print(y_predicted.shape)"
   ]
  },
  {
   "cell_type": "code",
   "execution_count": 63,
   "metadata": {},
   "outputs": [
    {
     "name": "stdout",
     "output_type": "stream",
     "text": [
      "[[  0.   0.   0. ...   0.   0.   0.]\n",
      " [  0.  66. 484. ...   0.   0.   0.]\n",
      " [  0.  75. 180. ...   0.   0.   0.]\n",
      " ...\n",
      " [  0.   0.   0. ...   0.   0.   0.]\n",
      " [  0.   0.   0. ...   0.   0.   0.]\n",
      " [  0.   0.   0. ...   0.   0.   0.]]\n"
     ]
    }
   ],
   "source": [
    "#computing the confusion matrix for the dataset\n",
    "confusion_matrix = np.zeros(shape = [10000,10000])\n",
    "for i in range(10000):\n",
    "    confusion_matrix[y_test_output[i]][y_predicted[i]] += 1\n",
    "        \n",
    "print(confusion_matrix)"
   ]
  },
  {
   "cell_type": "code",
   "execution_count": 64,
   "metadata": {},
   "outputs": [
    {
     "data": {
      "text/plain": [
       "array([  0.,  66., 180., ...,   0.,   0.,   0.])"
      ]
     },
     "execution_count": 64,
     "metadata": {},
     "output_type": "execute_result"
    }
   ],
   "source": [
    "#getting true positive using confusion matrix\n",
    "TruePositive = np.diag(confusion_matrix) \n",
    "TruePositive"
   ]
  },
  {
   "cell_type": "code",
   "execution_count": 65,
   "metadata": {},
   "outputs": [
    {
     "data": {
      "text/plain": [
       "[0.0, 1063.0, 3463.0, 320.0, 1358.0, 1394.0, 644.0, 248.0, 512.0, 159.0]"
      ]
     },
     "execution_count": 65,
     "metadata": {},
     "output_type": "execute_result"
    }
   ],
   "source": [
    "#getting false positive using confusion matrix\n",
    "FalsePositive = []\n",
    "for i in range(10): \n",
    "    FalsePositive.append(sum(confusion_matrix[:,i]) - confusion_matrix[i,i])\n",
    "FalsePositive"
   ]
  },
  {
   "cell_type": "code",
   "execution_count": 66,
   "metadata": {},
   "outputs": [
    {
     "data": {
      "text/plain": [
       "[0.0, 914.0, 955.0, 990.0, 842.0, 763.0, 834.0, 908.0, 981.0, 965.0]"
      ]
     },
     "execution_count": 66,
     "metadata": {},
     "output_type": "execute_result"
    }
   ],
   "source": [
    "#getting False Negative using confusion matrix\n",
    "FalseNegative = []\n",
    "for i in range(10): \n",
    "    FalseNegative.append(sum(confusion_matrix[i, :]) - confusion_matrix[i,i])\n",
    "FalseNegative"
   ]
  },
  {
   "cell_type": "code",
   "execution_count": 67,
   "metadata": {},
   "outputs": [
    {
     "data": {
      "text/plain": [
       "[10000.0,\n",
       " 7957.0,\n",
       " 5402.0,\n",
       " 8648.0,\n",
       " 7632.0,\n",
       " 7624.0,\n",
       " 8464.0,\n",
       " 8794.0,\n",
       " 8460.0,\n",
       " 8867.0]"
      ]
     },
     "execution_count": 67,
     "metadata": {},
     "output_type": "execute_result"
    }
   ],
   "source": [
    "#getting true negative using confusion matrix\n",
    "TrueNegative = []\n",
    "for i in range(10): \n",
    "    temp = np.delete(confusion_matrix, i, 0) # delete ith row \n",
    "    temp = np.delete(temp, i, 1) # delete ith column \n",
    "    TrueNegative.append(sum(sum(temp))) \n",
    "TrueNegative\n"
   ]
  },
  {
   "cell_type": "code",
   "execution_count": 68,
   "metadata": {},
   "outputs": [
    {
     "name": "stdout",
     "output_type": "stream",
     "text": [
      "\n",
      "Class  1\n",
      "Accuracy :  1.0\n",
      "Precision :  nan\n",
      "Recall :  nan\n",
      "F-Score :  nan\n",
      "\n",
      "Class  2\n",
      "Accuracy :  0.8023\n",
      "Precision :  0.05845881310894597\n",
      "Recall :  0.0673469387755102\n",
      "F-Score :  0.06258890469416785\n",
      "\n",
      "Class  3\n",
      "Accuracy :  0.5582\n",
      "Precision :  0.04940982706560527\n",
      "Recall :  0.15859030837004406\n",
      "F-Score :  0.07534533277521975\n",
      "\n",
      "Class  4\n",
      "Accuracy :  0.869\n",
      "Precision :  0.11602209944751381\n",
      "Recall :  0.040697674418604654\n",
      "F-Score :  0.06025824964131995\n",
      "\n",
      "Class  5\n",
      "Accuracy :  0.78\n",
      "Precision :  0.11009174311926606\n",
      "Recall :  0.16633663366336635\n",
      "F-Score :  0.13249211356466875\n",
      "\n",
      "Class  6\n",
      "Accuracy :  0.7843\n",
      "Precision :  0.13577185368877867\n",
      "Recall :  0.2230142566191446\n",
      "F-Score :  0.16878612716763003\n",
      "\n",
      "Class  7\n",
      "Accuracy :  0.8522\n",
      "Precision :  0.08262108262108261\n",
      "Recall :  0.06502242152466367\n",
      "F-Score :  0.0727728983688833\n",
      "\n",
      "Class  8\n",
      "Accuracy :  0.8844\n",
      "Precision :  0.16778523489932887\n",
      "Recall :  0.05219206680584551\n",
      "F-Score :  0.07961783439490447\n",
      "\n",
      "Class  9\n",
      "Accuracy :  0.8507\n",
      "Precision :  0.08407871198568873\n",
      "Recall :  0.04571984435797665\n",
      "F-Score :  0.05923125393824826\n",
      "\n",
      "Class  10\n",
      "Accuracy :  0.8876\n",
      "Precision :  0.05357142857142857\n",
      "Recall :  0.009240246406570842\n",
      "F-Score :  0.01576182136602452\n"
     ]
    },
    {
     "name": "stderr",
     "output_type": "stream",
     "text": [
      "/usr/lib/python3.7/site-packages/ipykernel_launcher.py:4: RuntimeWarning: invalid value encountered in double_scalars\n",
      "  after removing the cwd from sys.path.\n",
      "/usr/lib/python3.7/site-packages/ipykernel_launcher.py:6: RuntimeWarning: invalid value encountered in double_scalars\n",
      "  \n"
     ]
    }
   ],
   "source": [
    "#computing classwise accuracy precision recall and F-Score\n",
    "for i in range(10):\n",
    "    print(\"\\nClass \", i+1)\n",
    "    print(\"Accuracy : \", (TruePositive[i] + TrueNegative[i]) / (TruePositive[i] + TrueNegative[i] + FalsePositive[i] + FalseNegative[i]))\n",
    "    precision = (TruePositive[i]) / (TruePositive[i] + FalsePositive[i])\n",
    "    print(\"Precision : \", precision)\n",
    "    recall = (TruePositive[i]) / (TruePositive[i] + FalseNegative[i])\n",
    "    print(\"Recall : \", recall)\n",
    "    print(\"F-Score : \", (2 * precision * recall) / (precision + recall))"
   ]
  }
 ],
 "metadata": {
  "kernelspec": {
   "display_name": "Python 3",
   "language": "python",
   "name": "python3"
  },
  "language_info": {
   "codemirror_mode": {
    "name": "ipython",
    "version": 3
   },
   "file_extension": ".py",
   "mimetype": "text/x-python",
   "name": "python",
   "nbconvert_exporter": "python",
   "pygments_lexer": "ipython3",
   "version": "3.7.4"
  }
 },
 "nbformat": 4,
 "nbformat_minor": 2
}
